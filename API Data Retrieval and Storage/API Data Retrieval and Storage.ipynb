{
 "cells": [
  {
   "cell_type": "code",
   "execution_count": 6,
   "metadata": {},
   "outputs": [
    {
     "name": "stdout",
     "output_type": "stream",
     "text": [
      "Creating Table: books\n",
      "Inserting into Table: books\n",
      "Reading from Table: books\n",
      "(1, 'Storytelling with Data', 'Cole Nussbaumer Knaflic', 2014)\n",
      "(2, 'Introduction to Probability', 'J. Laurie Snell', 1988)\n",
      "(3, 'Data Science for Dummies', 'Lillian Pierson', 2015)\n"
     ]
    }
   ],
   "source": [
    "from config import *\n",
    "\n",
    "url = \"http://127.0.0.1:8000/books-api\"\n",
    "headers = {'Content-Type': 'application/json'}\n",
    "response = requests.get(url, headers=headers)\n",
    "\n",
    "if response.status_code == 200:\n",
    "    data = response.json()\n",
    "    \n",
    "    conn = sqlite3.connect('books.db')\n",
    "    cursor = conn.cursor()\n",
    "    \n",
    "    # Create a table books\n",
    "    print(\"Creating Table: books\")\n",
    "    cursor.execute('''\n",
    "                   CREATE TABLE IF NOT EXISTS books (ID INTEGER PRIMARY KEY,\n",
    "                    Title VARCHAR,\n",
    "                    Author VARCHAR,\n",
    "                    Publication_Year INTEGER)\n",
    "                   ''')\n",
    "\n",
    "    # Insert into table books\n",
    "    print(\"Inserting into Table: books\")\n",
    "    for book in data:\n",
    "        cursor.execute(f\"INSERT INTO books (title, author, publication_year) VALUES ('{book['title']}', '{book['author']}', {book['publication_year']})\")\n",
    "    \n",
    "    # Retrieve contents of table books\n",
    "    print(\"Reading from Table: books\")\n",
    "    cursor.execute('''\n",
    "                   SELECT * FROM books\n",
    "                   ''')\n",
    "    books_data = cursor.fetchall()\n",
    "    for book in books_data:\n",
    "        print(book)\n",
    "\n",
    "else:\n",
    "    print(f\"Failed to fetch data from the API. Status code: {response.status_code}\")"
   ]
  }
 ],
 "metadata": {
  "kernelspec": {
   "display_name": "Python 3",
   "language": "python",
   "name": "python3"
  },
  "language_info": {
   "codemirror_mode": {
    "name": "ipython",
    "version": 3
   },
   "file_extension": ".py",
   "mimetype": "text/x-python",
   "name": "python",
   "nbconvert_exporter": "python",
   "pygments_lexer": "ipython3",
   "version": "3.9.0"
  }
 },
 "nbformat": 4,
 "nbformat_minor": 2
}
