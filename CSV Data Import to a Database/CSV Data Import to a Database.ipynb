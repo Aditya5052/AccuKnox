{
 "cells": [
  {
   "cell_type": "code",
   "execution_count": 1,
   "metadata": {},
   "outputs": [
    {
     "name": "stdout",
     "output_type": "stream",
     "text": [
      "Data inserted into the SQLite database successfully.\n",
      "\n",
      "Reading from Table: users\n",
      "(1, 'Aditya Mishra', 'adityam120502@gmail.com')\n",
      "(2, 'Rowan Bean', 'mrbean@bean.com')\n",
      "(3, 'Noddy', 'noddy@toyland.com')\n",
      "(4, 'Bob Builder', 'bobthebuilder@cartoon.com')\n"
     ]
    }
   ],
   "source": [
    "import csv\n",
    "import sqlite3\n",
    "\n",
    "csv_file = \"users.csv\"\n",
    "db_file = \"users.db\"\n",
    "\n",
    "conn = sqlite3.connect(db_file)\n",
    "cursor = conn.cursor()\n",
    "\n",
    "# Create a table users\n",
    "cursor.execute('''CREATE TABLE users (\n",
    "                    Id INTEGER PRIMARY KEY,\n",
    "                    Name VARCHAR,\n",
    "                    Email VARCHAR\n",
    "                 )''')\n",
    "\n",
    "with open(csv_file, 'r') as file:\n",
    "    csv_reader = csv.DictReader(file)\n",
    "    for row in csv_reader:\n",
    "        name = row['Name']\n",
    "        email = row['Email']\n",
    "        cursor.execute(f\"INSERT INTO users (name, email) VALUES ('{name}', '{email}')\")\n",
    "print(\"Data inserted into the SQLite database successfully.\")\n",
    "\n",
    "print(\"\\nReading from Table: users\")\n",
    "cursor.execute('''SELECT * FROM users''')\n",
    "users_data = cursor.fetchall()\n",
    "for user in users_data:\n",
    "    print(user)"
   ]
  }
 ],
 "metadata": {
  "kernelspec": {
   "display_name": "Python 3",
   "language": "python",
   "name": "python3"
  },
  "language_info": {
   "codemirror_mode": {
    "name": "ipython",
    "version": 3
   },
   "file_extension": ".py",
   "mimetype": "text/x-python",
   "name": "python",
   "nbconvert_exporter": "python",
   "pygments_lexer": "ipython3",
   "version": "3.9.0"
  }
 },
 "nbformat": 4,
 "nbformat_minor": 2
}
